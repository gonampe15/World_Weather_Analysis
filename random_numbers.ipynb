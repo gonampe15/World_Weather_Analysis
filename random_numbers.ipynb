{
 "cells": [
  {
   "cell_type": "code",
   "execution_count": 1,
   "id": "d0027eff",
   "metadata": {},
   "outputs": [],
   "source": [
    "# Import the random module.\n",
    "import random"
   ]
  },
  {
   "cell_type": "code",
   "execution_count": 4,
   "id": "ff1a0f90",
   "metadata": {},
   "outputs": [
    {
     "data": {
      "text/plain": [
       "-5"
      ]
     },
     "execution_count": 4,
     "metadata": {},
     "output_type": "execute_result"
    }
   ],
   "source": [
    "random.randint(-90, 90)"
   ]
  },
  {
   "cell_type": "code",
   "execution_count": 5,
   "id": "35b45112",
   "metadata": {},
   "outputs": [
    {
     "data": {
      "text/plain": [
       "0.007521178897931247"
      ]
     },
     "execution_count": 5,
     "metadata": {},
     "output_type": "execute_result"
    }
   ],
   "source": [
    "random.random()"
   ]
  },
  {
   "cell_type": "code",
   "execution_count": 7,
   "id": "d8ae0be9",
   "metadata": {},
   "outputs": [
    {
     "data": {
      "text/plain": [
       "[35.37661305982157,\n",
       " 65.05470634223748,\n",
       " 22.133055338175673,\n",
       " -32.11962660722998,\n",
       " 87.14518984381435,\n",
       " 21.491385392375435,\n",
       " 27.18094172999044,\n",
       " 12.678684305518047,\n",
       " -43.739790267511495,\n",
       " 60.61859448287924]"
      ]
     },
     "execution_count": 7,
     "metadata": {},
     "output_type": "execute_result"
    }
   ],
   "source": [
    "x = 1\n",
    "latitudes = []\n",
    "while x < 11:\n",
    "    random_lat = random.randint(-90, 89) + random.random()\n",
    "    latitudes.append(random_lat)\n",
    "    x += 1\n",
    "\n",
    "latitudes"
   ]
  },
  {
   "cell_type": "code",
   "execution_count": 8,
   "id": "9c319ae9",
   "metadata": {},
   "outputs": [],
   "source": [
    "# Import the NumPy module.\n",
    "import numpy as np"
   ]
  },
  {
   "cell_type": "code",
   "execution_count": 9,
   "id": "85ba9e0c",
   "metadata": {},
   "outputs": [
    {
     "data": {
      "text/plain": [
       "31.0204407747497"
      ]
     },
     "execution_count": 9,
     "metadata": {},
     "output_type": "execute_result"
    }
   ],
   "source": [
    "np.random.uniform(-90.000, 90.000)"
   ]
  },
  {
   "cell_type": "code",
   "execution_count": 10,
   "id": "62588bbb",
   "metadata": {},
   "outputs": [
    {
     "data": {
      "text/plain": [
       "array([-23.58061919, -34.8326595 ,  56.81876675,  44.47023685,\n",
       "       -10.16662055,   1.22628364,  49.44464093,  -8.82922728,\n",
       "       -69.51921637, -29.15070437, -66.04924043,  36.4797375 ,\n",
       "         3.42265104, -31.27992179, -24.69892289,  31.96800021,\n",
       "       -19.3907274 ,   5.42287629,  82.14266288,  50.19189239,\n",
       "       -12.27647587, -61.9525553 ,   2.92415408, -44.15079404,\n",
       "         0.48858856, -55.64756849,  69.86400163, -33.7239737 ,\n",
       "        41.19720097,  85.57038453,  75.75971471, -48.73694291,\n",
       "        70.60451143,  24.59690073,  76.49732498,   9.44997635,\n",
       "        10.83078147,  65.78763398, -77.05422509,  69.29161927,\n",
       "        14.33283696, -46.2921086 ,  69.49119613, -71.32779431,\n",
       "        65.47941768,  33.03680919, -70.01206809, -60.82443579,\n",
       "        -7.27150854,  33.90245393])"
      ]
     },
     "execution_count": 10,
     "metadata": {},
     "output_type": "execute_result"
    }
   ],
   "source": [
    "np.random.uniform(-90.000, 90.000, size=50)"
   ]
  },
  {
   "cell_type": "code",
   "execution_count": 11,
   "id": "4fb2ac47",
   "metadata": {},
   "outputs": [],
   "source": [
    "# Import timeit.\n",
    "import timeit"
   ]
  },
  {
   "cell_type": "code",
   "execution_count": 13,
   "id": "c5bd0e20",
   "metadata": {},
   "outputs": [
    {
     "name": "stdout",
     "output_type": "stream",
     "text": [
      "11.3 µs ± 145 ns per loop (mean ± std. dev. of 7 runs, 100000 loops each)\n"
     ]
    }
   ],
   "source": [
    "%timeit np.random.uniform(-90.000, 90.000, size=1500)"
   ]
  },
  {
   "cell_type": "code",
   "execution_count": 14,
   "id": "b9bde961",
   "metadata": {},
   "outputs": [
    {
     "name": "stdout",
     "output_type": "stream",
     "text": [
      "1.41 ms ± 17.2 µs per loop (mean ± std. dev. of 7 runs, 1000 loops each)\n"
     ]
    }
   ],
   "source": [
    "def latitudes(size):\n",
    "    latitudes = []\n",
    "    x = 0\n",
    "    while x < (size):\n",
    "        random_lat = random.randint(-90, 90) + random.random()\n",
    "        latitudes.append(random_lat)\n",
    "        x += 1\n",
    "    return latitudes\n",
    "# Call the function with 1500.\n",
    "%timeit latitudes(1500)"
   ]
  },
  {
   "cell_type": "code",
   "execution_count": null,
   "id": "ba378892",
   "metadata": {},
   "outputs": [],
   "source": []
  }
 ],
 "metadata": {
  "kernelspec": {
   "display_name": "PythonData",
   "language": "python",
   "name": "pythondata"
  },
  "language_info": {
   "codemirror_mode": {
    "name": "ipython",
    "version": 3
   },
   "file_extension": ".py",
   "mimetype": "text/x-python",
   "name": "python",
   "nbconvert_exporter": "python",
   "pygments_lexer": "ipython3",
   "version": "3.7.13"
  }
 },
 "nbformat": 4,
 "nbformat_minor": 5
}
